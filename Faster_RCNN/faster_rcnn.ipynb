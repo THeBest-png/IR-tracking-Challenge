{
  "cells": [
    {
      "cell_type": "code",
      "execution_count": null,
      "metadata": {
        "id": "HR17D3eGe9jk"
      },
      "outputs": [],
      "source": [
        "from torch_snippets import *\n",
        "from PIL import Image\n",
        "\n",
        "import json\n",
        "with open('/home/pawan/TII_IR-Tracking/src/Daytime/daytime.json', 'r') as f:\n",
        "   DF_RAW = df = json.load(f)\n",
        "\n",
        "IMAGE_ROOT = \"/home/pawan/TII_IR-Tracking/src/Daytime/RGB/\"\n"
      ]
    },
    {
      "cell_type": "code",
      "execution_count": null,
      "metadata": {
        "id": "qWrhg0CBfHZZ"
      },
      "outputs": [],
      "source": [
        "supercategory = {ann['supercategory'] for ann in DF_RAW['categories']}\n",
        "\n",
        "label2target = {l:t+1 for t,l in enumerate(supercategory)}\n",
        "label2target['background'] = 0\n",
        "\n",
        "target2label = {t:l for l,t in label2target.items()}\n",
        "\n",
        "background_class = label2target['background']\n",
        "num_classes = len(label2target)\n",
        "\n"
      ]
    },
    {
      "cell_type": "code",
      "execution_count": null,
      "metadata": {
        "id": "-AG_eT8MfIu3"
      },
      "outputs": [],
      "source": [
        "def preprocess_image(img):\n",
        "    img = torch.tensor(img).permute(2,0,1)\n",
        "    return img.to(device).float()"
      ]
    },
    {
      "cell_type": "code",
      "execution_count": null,
      "metadata": {
        "id": "1R-Wrp2vfKaZ"
      },
      "outputs": [],
      "source": [
        "class OpenDataset(torch.utils.data.Dataset):\n",
        "    w, h = 224, 224\n",
        "    def __init__(self, df, image_dir=IMAGE_ROOT):\n",
        "        self.image_dir = image_dir\n",
        "        self.files = Glob(self.image_dir+'/*')\n",
        "        self.df = df\n",
        "        self.image_infos = [i['file_name'] for i in df[\"images\"]]\n",
        "\n",
        "        self.image_ids_annotations = defaultdict(list)\n",
        "        for ann in df['annotations']:\n",
        "            image_id = ann['image_id'] # Are integers\n",
        "            self.image_ids_annotations[image_id].append(ann)\n",
        "\n",
        "        self.catergory_id_to_name = dict()\n",
        "        for ann in df['categories']:\n",
        "            self.catergory_id_to_name[ann['id']] = ann['supercategory']\n",
        "\n",
        "\n",
        "    def __getitem__(self, ix):\n",
        "        # load images and masks\n",
        "        image_id = self.image_infos[ix]\n",
        "        img_path = find(image_id, self.files)\n",
        "        img = Image.open(img_path).convert(\"RGB\")\n",
        "        h, w = img.size\n",
        "        img = np.array(img.resize((self.w, self.h), resample=Image.BILINEAR))/255.\n",
        "\n",
        "        image_anns = self.image_ids_annotations[ix]\n",
        "        boxes = list()\n",
        "        labels = list()\n",
        "\n",
        "        for image_ann in image_anns:\n",
        "            bbox = image_ann['bbox']\n",
        "            \n",
        "            reformat = [bbox[0] * self.h/h,\n",
        "                        bbox[1] * self.w/w,\n",
        "                        (bbox[0]+bbox[2]) * self.h/h,\n",
        "                        (bbox[1]+bbox[3]) * self.w/w]\n",
        "            \n",
        "            \n",
        "            reformat = list(map(int, reformat))\n",
        "            boxes.append(reformat) # Format: x, y, h, w, origin in top left corner\n",
        "            labels.append(self.catergory_id_to_name[image_ann['category_id']])\n",
        "        \n",
        "        # torch FRCNN expects ground truths as a dictionary of tensors\n",
        "        target = {}\n",
        "        target[\"boxes\"] = torch.Tensor(boxes).float()\n",
        "        target[\"labels\"] = torch.Tensor([label2target[i] for i in labels]).long()\n",
        "        img = preprocess_image(img)\n",
        "\n",
        "        return img, target\n",
        "    \n",
        "    def collate_fn(self, batch):\n",
        "        return tuple(zip(*batch)) \n",
        "\n",
        "    def __len__(self):\n",
        "        return len(self.image_infos)"
      ]
    },
    {
      "cell_type": "code",
      "execution_count": null,
      "metadata": {
        "id": "xrcy_K5JfOLU"
      },
      "outputs": [],
      "source": [
        "from sklearn.model_selection import train_test_split\n",
        "\n",
        "image_ids = [i['id'] for i in df[\"images\"]]\n",
        "trn_ids, val_ids = train_test_split(image_ids, test_size=0.1, random_state=99)\n",
        "\n",
        "image_ids_annotations = defaultdict(list)\n",
        "\n",
        "for ann in df['annotations']:\n",
        "\n",
        "    image_id = ann['image_id'] # Are integers\n",
        "    image_ids_annotations[image_id].append(ann)\n",
        "    \n",
        "\n",
        "\n",
        "\n",
        "trn_df = {'images':[],'image_ids_annotations':{}, 'categories':df['categories']}\n",
        "val_df = {'images':[],'image_ids_annotations':{}, 'categories':df['categories']}\n",
        "\n",
        "\n",
        "for key in trn_ids:\n",
        "    if key in image_ids_annotations:\n",
        "        trn_df['image_ids_annotations'][key] = image_ids_annotations[key]\n",
        "\n",
        "print(df['images'][5622])\n",
        "\n",
        "for i in trn_ids:\n",
        "    try:\n",
        "        trn_df['images'].append(df['images'][i])\n",
        "    \n",
        "    except:\n",
        "        print(i)\n",
        "\n",
        "for key in val_ids:\n",
        "    if key in image_ids_annotations:\n",
        "        val_df['image_ids_annotations'][key] = image_ids_annotations[key]\n",
        "\n",
        "\n",
        "len(trn_df), len(val_df)\n",
        "\n",
        "train_ds = OpenDataset(trn_df)\n",
        "test_ds = OpenDataset(val_df)\n",
        "\n",
        "train_loader = DataLoader(train_ds, batch_size=4, collate_fn=train_ds.collate_fn, drop_last=True)\n",
        "test_loader = DataLoader(test_ds, batch_size=4, collate_fn=test_ds.collate_fn, drop_last=True)"
      ]
    },
    {
      "cell_type": "code",
      "execution_count": null,
      "metadata": {
        "id": "kUg1AMc5fR_h"
      },
      "outputs": [],
      "source": [
        "import torchvision\n",
        "from torchvision.models.detection.faster_rcnn import FastRCNNPredictor\n",
        "\n",
        "device = 'cuda' if torch.cuda.is_available() else 'cpu'\n",
        "\n",
        "def get_model():\n",
        "    model = torchvision.models.detection.fasterrcnn_resnet50_fpn(pretrained=True)\n",
        "    in_features = model.roi_heads.box_predictor.cls_score.in_features\n",
        "    model.roi_heads.box_predictor = FastRCNNPredictor(in_features, num_classes)\n",
        "    return model"
      ]
    },
    {
      "cell_type": "code",
      "execution_count": null,
      "metadata": {
        "id": "-O5C2S0efT54"
      },
      "outputs": [],
      "source": [
        "# Defining training and validation functions for a single batch\n",
        "def train_batch(inputs, model, optimizer):\n",
        "    model.train()\n",
        "    input, targets = inputs\n",
        "    input = list(image.to(device) for image in input)\n",
        "    targets = [{k: v.to(device) for k, v in t.items()} for t in targets]\n",
        "    optimizer.zero_grad()\n",
        "    losses = model(input, targets)\n",
        "    loss = sum(loss for loss in losses.values())\n",
        "    loss.backward()\n",
        "    optimizer.step()\n",
        "    return loss, losses\n",
        "\n",
        "@torch.no_grad() # this will disable gradient computation in the function below\n",
        "def validate_batch(inputs, model):\n",
        "    model.train() # to obtain the losses, model needs to be in train mode only. # #Note that here we are not defining the model's forward method \n",
        "#and hence need to work per the way the model class is defined\n",
        "    input, targets = inputs\n",
        "    input = list(image.to(device) for image in input)\n",
        "    targets = [{k: v.to(device) for k, v in t.items()} for t in targets]\n",
        "\n",
        "    optimizer.zero_grad()\n",
        "    losses = model(input, targets)\n",
        "    loss = sum(loss for loss in losses.values())\n",
        "    return loss, losses"
      ]
    },
    {
      "cell_type": "code",
      "execution_count": null,
      "metadata": {
        "colab": {
          "base_uri": "https://localhost:8080/",
          "height": 103,
          "referenced_widgets": [
            "e3aa54d93ba241b38b98c2e139b840aa",
            "73ede01ed9784dceb0617132b49e907a",
            "0345c8233b1c4e33affda3c97b571181",
            "40ec1748eaaf45ddb69ba7533ea0330f",
            "4a7e2835017541ee9c5833818d18e0ba",
            "7d0e734032574e0293fa8a0c428864b9",
            "8bec29c216de42b5813c4406eb82a7a7",
            "4b0adda9398b4fb5bd0d9545d9e46454"
          ]
        },
        "id": "qqSXjKLyfX-6",
        "outputId": "21a92b7d-7232-405e-ea08-10e23ac0b199"
      },
      "outputs": [],
      "source": [
        "model = get_model().to(device)\n",
        "optimizer = torch.optim.SGD(model.parameters(), lr=0.005,\n",
        "                            momentum=0.9, weight_decay=0.0005)\n",
        "n_epochs = 5\n",
        "log = Report(n_epochs)"
      ]
    },
    {
      "cell_type": "code",
      "execution_count": null,
      "metadata": {
        "id": "YVkap7DffZlk"
      },
      "outputs": [],
      "source": [
        "for epoch in range(n_epochs):\n",
        "    _n = len(train_loader)\n",
        "    for ix, inputs in enumerate(train_loader):\n",
        "        loss, losses = train_batch(inputs, model, optimizer)\n",
        "        loc_loss, regr_loss, loss_objectness, loss_rpn_box_reg = \\\n",
        "            [losses[k] for k in ['loss_classifier','loss_box_reg','loss_objectness','loss_rpn_box_reg']]\n",
        "        pos = (epoch + (ix+1)/_n)\n",
        "        log.record(pos, trn_loss=loss.item(), trn_loc_loss=loc_loss.item(), \n",
        "                   trn_regr_loss=regr_loss.item(), trn_objectness_loss=loss_objectness.item(),\n",
        "                   trn_rpn_box_reg_loss=loss_rpn_box_reg.item(), end='\\r')\n",
        "\n",
        "    _n = len(test_loader)\n",
        "    for ix,inputs in enumerate(test_loader):\n",
        "        loss, losses = validate_batch(inputs, model)\n",
        "        loc_loss, regr_loss, loss_objectness, loss_rpn_box_reg = \\\n",
        "          [losses[k] for k in ['loss_classifier','loss_box_reg','loss_objectness','loss_rpn_box_reg']]\n",
        "        pos = (epoch + (ix+1)/_n)\n",
        "        log.record(pos, val_loss=loss.item(), val_loc_loss=loc_loss.item(), \n",
        "                  val_regr_loss=regr_loss.item(), val_objectness_loss=loss_objectness.item(),\n",
        "                  val_rpn_box_reg_loss=loss_rpn_box_reg.item(), end='\\r')\n",
        "    if (epoch+1)%(n_epochs//5)==0: log.report_avgs(epoch+1)"
      ]
    },
    {
      "cell_type": "code",
      "execution_count": null,
      "metadata": {
        "id": "nUsnYB5dffKO"
      },
      "outputs": [],
      "source": [
        "log.plot_epochs(['trn_loss','val_loss'])"
      ]
    },
    {
      "cell_type": "code",
      "execution_count": null,
      "metadata": {
        "id": "Q-XrM2p_fkot"
      },
      "outputs": [],
      "source": [
        "from torchvision.ops import nms\n",
        "def decode_output(output):\n",
        "    'convert tensors to numpy arrays'\n",
        "    bbs = output['boxes'].cpu().detach().numpy().astype(np.uint16)\n",
        "    labels = np.array([target2label[i] for i in output['labels'].cpu().detach().numpy()])\n",
        "    confs = output['scores'].cpu().detach().numpy()\n",
        "    ixs = nms(torch.tensor(bbs.astype(np.float32)), torch.tensor(confs), 0.05)\n",
        "    bbs, confs, labels = [tensor[ixs] for tensor in [bbs, confs, labels]]\n",
        "\n",
        "    if len(ixs) == 1:\n",
        "        bbs, confs, labels = [np.array([tensor]) for tensor in [bbs, confs, labels]]\n",
        "    return bbs.tolist(), confs.tolist(), labels.tolist()"
      ]
    },
    {
      "cell_type": "code",
      "execution_count": null,
      "metadata": {
        "colab": {
          "base_uri": "https://localhost:8080/",
          "height": 1000
        },
        "id": "3-IeCHT4forG",
        "outputId": "d6173651-a17b-4600-f9a4-19c77739ba88"
      },
      "outputs": [],
      "source": [
        "model.eval()\n",
        "for ix, (images, targets) in enumerate(test_loader):\n",
        "    if ix==3: break\n",
        "    images = [im for im in images]\n",
        "    outputs = model(images)\n",
        "    for ix, output in enumerate(outputs):\n",
        "        bbs, confs, labels = decode_output(output)\n",
        "        info = [f'{l}@{c:.2f}' for l,c in zip(labels, confs)]\n",
        "        show(images[ix].cpu().permute(1,2,0), bbs=bbs, texts=labels, sz=5)"
      ]
    },
    {
      "cell_type": "code",
      "execution_count": null,
      "metadata": {
        "id": "kbT7xq7GfqSN"
      },
      "outputs": [],
      "source": []
    }
  ],
  "metadata": {
    "accelerator": "GPU",
    "colab": {
      "name": "Training_Faster_RCNN.ipynb",
      "provenance": []
    },
    "kernelspec": {
      "display_name": "Python 3",
      "name": "python3"
    },
    "language_info": {
      "codemirror_mode": {
        "name": "ipython",
        "version": 3
      },
      "file_extension": ".py",
      "mimetype": "text/x-python",
      "name": "python",
      "nbconvert_exporter": "python",
      "pygments_lexer": "ipython3",
      "version": "3.10.9"
    },
    "widgets": {
      "application/vnd.jupyter.widget-state+json": {
        "0345c8233b1c4e33affda3c97b571181": {
          "model_module": "@jupyter-widgets/controls",
          "model_module_version": "1.5.0",
          "model_name": "FloatProgressModel",
          "state": {
            "_dom_classes": [],
            "_model_module": "@jupyter-widgets/controls",
            "_model_module_version": "1.5.0",
            "_model_name": "FloatProgressModel",
            "_view_count": null,
            "_view_module": "@jupyter-widgets/controls",
            "_view_module_version": "1.5.0",
            "_view_name": "ProgressView",
            "bar_style": "success",
            "description": "100%",
            "description_tooltip": null,
            "layout": "IPY_MODEL_7d0e734032574e0293fa8a0c428864b9",
            "max": 167502836,
            "min": 0,
            "orientation": "horizontal",
            "style": "IPY_MODEL_4a7e2835017541ee9c5833818d18e0ba",
            "value": 167502836
          }
        },
        "40ec1748eaaf45ddb69ba7533ea0330f": {
          "model_module": "@jupyter-widgets/controls",
          "model_module_version": "1.5.0",
          "model_name": "HTMLModel",
          "state": {
            "_dom_classes": [],
            "_model_module": "@jupyter-widgets/controls",
            "_model_module_version": "1.5.0",
            "_model_name": "HTMLModel",
            "_view_count": null,
            "_view_module": "@jupyter-widgets/controls",
            "_view_module_version": "1.5.0",
            "_view_name": "HTMLView",
            "description": "",
            "description_tooltip": null,
            "layout": "IPY_MODEL_4b0adda9398b4fb5bd0d9545d9e46454",
            "placeholder": "​",
            "style": "IPY_MODEL_8bec29c216de42b5813c4406eb82a7a7",
            "value": " 160M/160M [00:22&lt;00:00, 7.50MB/s]"
          }
        },
        "4a7e2835017541ee9c5833818d18e0ba": {
          "model_module": "@jupyter-widgets/controls",
          "model_module_version": "1.5.0",
          "model_name": "ProgressStyleModel",
          "state": {
            "_model_module": "@jupyter-widgets/controls",
            "_model_module_version": "1.5.0",
            "_model_name": "ProgressStyleModel",
            "_view_count": null,
            "_view_module": "@jupyter-widgets/base",
            "_view_module_version": "1.2.0",
            "_view_name": "StyleView",
            "bar_color": null,
            "description_width": "initial"
          }
        },
        "4b0adda9398b4fb5bd0d9545d9e46454": {
          "model_module": "@jupyter-widgets/base",
          "model_module_version": "1.2.0",
          "model_name": "LayoutModel",
          "state": {
            "_model_module": "@jupyter-widgets/base",
            "_model_module_version": "1.2.0",
            "_model_name": "LayoutModel",
            "_view_count": null,
            "_view_module": "@jupyter-widgets/base",
            "_view_module_version": "1.2.0",
            "_view_name": "LayoutView",
            "align_content": null,
            "align_items": null,
            "align_self": null,
            "border": null,
            "bottom": null,
            "display": null,
            "flex": null,
            "flex_flow": null,
            "grid_area": null,
            "grid_auto_columns": null,
            "grid_auto_flow": null,
            "grid_auto_rows": null,
            "grid_column": null,
            "grid_gap": null,
            "grid_row": null,
            "grid_template_areas": null,
            "grid_template_columns": null,
            "grid_template_rows": null,
            "height": null,
            "justify_content": null,
            "justify_items": null,
            "left": null,
            "margin": null,
            "max_height": null,
            "max_width": null,
            "min_height": null,
            "min_width": null,
            "object_fit": null,
            "object_position": null,
            "order": null,
            "overflow": null,
            "overflow_x": null,
            "overflow_y": null,
            "padding": null,
            "right": null,
            "top": null,
            "visibility": null,
            "width": null
          }
        },
        "73ede01ed9784dceb0617132b49e907a": {
          "model_module": "@jupyter-widgets/base",
          "model_module_version": "1.2.0",
          "model_name": "LayoutModel",
          "state": {
            "_model_module": "@jupyter-widgets/base",
            "_model_module_version": "1.2.0",
            "_model_name": "LayoutModel",
            "_view_count": null,
            "_view_module": "@jupyter-widgets/base",
            "_view_module_version": "1.2.0",
            "_view_name": "LayoutView",
            "align_content": null,
            "align_items": null,
            "align_self": null,
            "border": null,
            "bottom": null,
            "display": null,
            "flex": null,
            "flex_flow": null,
            "grid_area": null,
            "grid_auto_columns": null,
            "grid_auto_flow": null,
            "grid_auto_rows": null,
            "grid_column": null,
            "grid_gap": null,
            "grid_row": null,
            "grid_template_areas": null,
            "grid_template_columns": null,
            "grid_template_rows": null,
            "height": null,
            "justify_content": null,
            "justify_items": null,
            "left": null,
            "margin": null,
            "max_height": null,
            "max_width": null,
            "min_height": null,
            "min_width": null,
            "object_fit": null,
            "object_position": null,
            "order": null,
            "overflow": null,
            "overflow_x": null,
            "overflow_y": null,
            "padding": null,
            "right": null,
            "top": null,
            "visibility": null,
            "width": null
          }
        },
        "7d0e734032574e0293fa8a0c428864b9": {
          "model_module": "@jupyter-widgets/base",
          "model_module_version": "1.2.0",
          "model_name": "LayoutModel",
          "state": {
            "_model_module": "@jupyter-widgets/base",
            "_model_module_version": "1.2.0",
            "_model_name": "LayoutModel",
            "_view_count": null,
            "_view_module": "@jupyter-widgets/base",
            "_view_module_version": "1.2.0",
            "_view_name": "LayoutView",
            "align_content": null,
            "align_items": null,
            "align_self": null,
            "border": null,
            "bottom": null,
            "display": null,
            "flex": null,
            "flex_flow": null,
            "grid_area": null,
            "grid_auto_columns": null,
            "grid_auto_flow": null,
            "grid_auto_rows": null,
            "grid_column": null,
            "grid_gap": null,
            "grid_row": null,
            "grid_template_areas": null,
            "grid_template_columns": null,
            "grid_template_rows": null,
            "height": null,
            "justify_content": null,
            "justify_items": null,
            "left": null,
            "margin": null,
            "max_height": null,
            "max_width": null,
            "min_height": null,
            "min_width": null,
            "object_fit": null,
            "object_position": null,
            "order": null,
            "overflow": null,
            "overflow_x": null,
            "overflow_y": null,
            "padding": null,
            "right": null,
            "top": null,
            "visibility": null,
            "width": null
          }
        },
        "8bec29c216de42b5813c4406eb82a7a7": {
          "model_module": "@jupyter-widgets/controls",
          "model_module_version": "1.5.0",
          "model_name": "DescriptionStyleModel",
          "state": {
            "_model_module": "@jupyter-widgets/controls",
            "_model_module_version": "1.5.0",
            "_model_name": "DescriptionStyleModel",
            "_view_count": null,
            "_view_module": "@jupyter-widgets/base",
            "_view_module_version": "1.2.0",
            "_view_name": "StyleView",
            "description_width": ""
          }
        },
        "e3aa54d93ba241b38b98c2e139b840aa": {
          "model_module": "@jupyter-widgets/controls",
          "model_module_version": "1.5.0",
          "model_name": "HBoxModel",
          "state": {
            "_dom_classes": [],
            "_model_module": "@jupyter-widgets/controls",
            "_model_module_version": "1.5.0",
            "_model_name": "HBoxModel",
            "_view_count": null,
            "_view_module": "@jupyter-widgets/controls",
            "_view_module_version": "1.5.0",
            "_view_name": "HBoxView",
            "box_style": "",
            "children": [
              "IPY_MODEL_0345c8233b1c4e33affda3c97b571181",
              "IPY_MODEL_40ec1748eaaf45ddb69ba7533ea0330f"
            ],
            "layout": "IPY_MODEL_73ede01ed9784dceb0617132b49e907a"
          }
        }
      }
    }
  },
  "nbformat": 4,
  "nbformat_minor": 0
}
